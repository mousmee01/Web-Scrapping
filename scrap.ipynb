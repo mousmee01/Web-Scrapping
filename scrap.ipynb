{
 "cells": [
  {
   "cell_type": "code",
   "execution_count": 20,
   "metadata": {},
   "outputs": [],
   "source": [
    "import tweepy\n",
    "import csv"
   ]
  },
  {
   "cell_type": "code",
   "execution_count": 21,
   "metadata": {},
   "outputs": [],
   "source": [
    "# Specify the account credentials in the following variables:\n",
    "consumer_key = '6LH2LIMPGNWMxNE2a6LfILp7i'\n",
    "consumer_secret = '0eWTMNdazgVNCgt1lRCQapeN8O54GeonyGHREyebYQs7dL3upn'\n",
    "access_token = '78610351-PaQIZu59zNjgIX7OeaKlU1Jr9LMqCTxVmGa7vxLZM'\n",
    "access_token_secret = 'J32gDj3Vdi3bjB0IbisO0IoCKWadDogVeGgZSyv510jZ4'"
   ]
  },
  {
   "cell_type": "code",
   "execution_count": 22,
   "metadata": {},
   "outputs": [],
   "source": [
    "auth = tweepy.OAuthHandler(consumer_key, consumer_secret)\n",
    "api = tweepy.API(auth)"
   ]
  },
  {
   "cell_type": "code",
   "execution_count": 31,
   "metadata": {},
   "outputs": [
    {
     "name": "stdin",
     "output_type": "stream",
     "text": [
      "Enter the number of tweets that you want to extract :  10000\n"
     ]
    }
   ],
   "source": [
    "maximum_tweets_to_extract = int(input('Enter the number of tweets that you want to extract : '))"
   ]
  },
  {
   "cell_type": "code",
   "execution_count": 32,
   "metadata": {},
   "outputs": [
    {
     "name": "stdin",
     "output_type": "stream",
     "text": [
      "Enter the hashtag :  argos\n"
     ]
    }
   ],
   "source": [
    "hashtag = input('Enter the hashtag : ')"
   ]
  },
  {
   "cell_type": "code",
   "execution_count": 33,
   "metadata": {},
   "outputs": [],
   "source": [
    "#cursor is used with the hashtag value and maximum_tweets_to_extract\n",
    "#opens a new file tweets_with_hashtag.txt and write all the hashtag related comments\n",
    "for tweet in tweepy.Cursor(api.search, q='@' + hashtag, rpp=100, lang=\"en\").items(maximum_tweets_to_extract):\n",
    "    with open('tweets_with_hashtag_' + hashtag + '.txt', 'a') as the_file:\n",
    "        the_file.write(str(tweet.text.encode('utf-8')) + '\\n')"
   ]
  },
  {
   "cell_type": "code",
   "execution_count": 11,
   "metadata": {},
   "outputs": [
    {
     "name": "stdout",
     "output_type": "stream",
     "text": [
      "Extracted 10000 tweets with hashtag #Argos_Online\n"
     ]
    }
   ],
   "source": [
    "print ('Extracted ' + str(maximum_tweets_to_extract) + ' tweets with hashtag #' + hashtag)"
   ]
  },
  {
   "cell_type": "code",
   "execution_count": null,
   "metadata": {},
   "outputs": [],
   "source": []
  }
 ],
 "metadata": {
  "kernelspec": {
   "display_name": "Python 3",
   "language": "python",
   "name": "python3"
  },
  "language_info": {
   "codemirror_mode": {
    "name": "ipython",
    "version": 3
   },
   "file_extension": ".py",
   "mimetype": "text/x-python",
   "name": "python",
   "nbconvert_exporter": "python",
   "pygments_lexer": "ipython3",
   "version": "3.7.1"
  }
 },
 "nbformat": 4,
 "nbformat_minor": 2
}
